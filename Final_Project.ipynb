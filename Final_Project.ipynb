{
 "cells": [
  {
   "cell_type": "markdown",
   "id": "2c9cb792",
   "metadata": {},
   "source": [
    " ## Domain – 911 Calls"
   ]
  },
  {
   "cell_type": "code",
   "execution_count": 6,
   "id": "3d848c4f",
   "metadata": {},
   "outputs": [],
   "source": [
    "import numpy as np"
   ]
  },
  {
   "cell_type": "code",
   "execution_count": 7,
   "id": "bbfc4ee1",
   "metadata": {},
   "outputs": [],
   "source": [
    "import pandas as pd"
   ]
  },
  {
   "cell_type": "code",
   "execution_count": 8,
   "id": "3a46dc28",
   "metadata": {},
   "outputs": [],
   "source": [
    "import matplotlib.pyplot as plt\n",
    "import matplotlib.dates as mdates\n",
    "import seaborn as sns\n",
    "%matplotlib inline"
   ]
  },
  {
   "cell_type": "code",
   "execution_count": 9,
   "id": "60f3391a",
   "metadata": {},
   "outputs": [],
   "source": [
    "df = pd.read_csv('911.csv')"
   ]
  },
  {
   "cell_type": "code",
   "execution_count": 10,
   "id": "bbc56fed",
   "metadata": {},
   "outputs": [
    {
     "name": "stdout",
     "output_type": "stream",
     "text": [
      "<class 'pandas.core.frame.DataFrame'>\n",
      "RangeIndex: 266543 entries, 0 to 266542\n",
      "Data columns (total 9 columns):\n",
      " #   Column     Non-Null Count   Dtype  \n",
      "---  ------     --------------   -----  \n",
      " 0   lat        266543 non-null  float64\n",
      " 1   lng        266543 non-null  float64\n",
      " 2   desc       266543 non-null  object \n",
      " 3   zip        234049 non-null  float64\n",
      " 4   title      266543 non-null  object \n",
      " 5   timeStamp  266543 non-null  object \n",
      " 6   twp        266448 non-null  object \n",
      " 7   addr       266543 non-null  object \n",
      " 8   e          266543 non-null  int64  \n",
      "dtypes: float64(3), int64(1), object(5)\n",
      "memory usage: 18.3+ MB\n"
     ]
    }
   ],
   "source": [
    "df.info()"
   ]
  },
  {
   "cell_type": "code",
   "execution_count": 6,
   "id": "990e7568",
   "metadata": {},
   "outputs": [
    {
     "data": {
      "text/html": [
       "<div>\n",
       "<style scoped>\n",
       "    .dataframe tbody tr th:only-of-type {\n",
       "        vertical-align: middle;\n",
       "    }\n",
       "\n",
       "    .dataframe tbody tr th {\n",
       "        vertical-align: top;\n",
       "    }\n",
       "\n",
       "    .dataframe thead th {\n",
       "        text-align: right;\n",
       "    }\n",
       "</style>\n",
       "<table border=\"1\" class=\"dataframe\">\n",
       "  <thead>\n",
       "    <tr style=\"text-align: right;\">\n",
       "      <th></th>\n",
       "      <th>lat</th>\n",
       "      <th>lng</th>\n",
       "      <th>desc</th>\n",
       "      <th>zip</th>\n",
       "      <th>title</th>\n",
       "      <th>timeStamp</th>\n",
       "      <th>twp</th>\n",
       "      <th>addr</th>\n",
       "      <th>e</th>\n",
       "    </tr>\n",
       "  </thead>\n",
       "  <tbody>\n",
       "    <tr>\n",
       "      <th>0</th>\n",
       "      <td>40.297876</td>\n",
       "      <td>-75.581294</td>\n",
       "      <td>REINDEER CT &amp; DEAD END;  NEW HANOVER; Station ...</td>\n",
       "      <td>19525.0</td>\n",
       "      <td>EMS: BACK PAINS/INJURY</td>\n",
       "      <td>2015-12-10 17:10:52</td>\n",
       "      <td>NEW HANOVER</td>\n",
       "      <td>REINDEER CT &amp; DEAD END</td>\n",
       "      <td>1</td>\n",
       "    </tr>\n",
       "    <tr>\n",
       "      <th>1</th>\n",
       "      <td>40.258061</td>\n",
       "      <td>-75.264680</td>\n",
       "      <td>BRIAR PATH &amp; WHITEMARSH LN;  HATFIELD TOWNSHIP...</td>\n",
       "      <td>19446.0</td>\n",
       "      <td>EMS: DIABETIC EMERGENCY</td>\n",
       "      <td>2015-12-10 17:29:21</td>\n",
       "      <td>HATFIELD TOWNSHIP</td>\n",
       "      <td>BRIAR PATH &amp; WHITEMARSH LN</td>\n",
       "      <td>1</td>\n",
       "    </tr>\n",
       "    <tr>\n",
       "      <th>2</th>\n",
       "      <td>40.121182</td>\n",
       "      <td>-75.351975</td>\n",
       "      <td>HAWS AVE; NORRISTOWN; 2015-12-10 @ 14:39:21-St...</td>\n",
       "      <td>19401.0</td>\n",
       "      <td>Fire: GAS-ODOR/LEAK</td>\n",
       "      <td>2015-12-10 14:39:21</td>\n",
       "      <td>NORRISTOWN</td>\n",
       "      <td>HAWS AVE</td>\n",
       "      <td>1</td>\n",
       "    </tr>\n",
       "    <tr>\n",
       "      <th>3</th>\n",
       "      <td>40.116153</td>\n",
       "      <td>-75.343513</td>\n",
       "      <td>AIRY ST &amp; SWEDE ST;  NORRISTOWN; Station 308A;...</td>\n",
       "      <td>19401.0</td>\n",
       "      <td>EMS: CARDIAC EMERGENCY</td>\n",
       "      <td>2015-12-10 16:47:36</td>\n",
       "      <td>NORRISTOWN</td>\n",
       "      <td>AIRY ST &amp; SWEDE ST</td>\n",
       "      <td>1</td>\n",
       "    </tr>\n",
       "    <tr>\n",
       "      <th>4</th>\n",
       "      <td>40.251492</td>\n",
       "      <td>-75.603350</td>\n",
       "      <td>CHERRYWOOD CT &amp; DEAD END;  LOWER POTTSGROVE; S...</td>\n",
       "      <td>NaN</td>\n",
       "      <td>EMS: DIZZINESS</td>\n",
       "      <td>2015-12-10 16:56:52</td>\n",
       "      <td>LOWER POTTSGROVE</td>\n",
       "      <td>CHERRYWOOD CT &amp; DEAD END</td>\n",
       "      <td>1</td>\n",
       "    </tr>\n",
       "  </tbody>\n",
       "</table>\n",
       "</div>"
      ],
      "text/plain": [
       "         lat        lng                                               desc  \\\n",
       "0  40.297876 -75.581294  REINDEER CT & DEAD END;  NEW HANOVER; Station ...   \n",
       "1  40.258061 -75.264680  BRIAR PATH & WHITEMARSH LN;  HATFIELD TOWNSHIP...   \n",
       "2  40.121182 -75.351975  HAWS AVE; NORRISTOWN; 2015-12-10 @ 14:39:21-St...   \n",
       "3  40.116153 -75.343513  AIRY ST & SWEDE ST;  NORRISTOWN; Station 308A;...   \n",
       "4  40.251492 -75.603350  CHERRYWOOD CT & DEAD END;  LOWER POTTSGROVE; S...   \n",
       "\n",
       "       zip                    title            timeStamp                twp  \\\n",
       "0  19525.0   EMS: BACK PAINS/INJURY  2015-12-10 17:10:52        NEW HANOVER   \n",
       "1  19446.0  EMS: DIABETIC EMERGENCY  2015-12-10 17:29:21  HATFIELD TOWNSHIP   \n",
       "2  19401.0      Fire: GAS-ODOR/LEAK  2015-12-10 14:39:21         NORRISTOWN   \n",
       "3  19401.0   EMS: CARDIAC EMERGENCY  2015-12-10 16:47:36         NORRISTOWN   \n",
       "4      NaN           EMS: DIZZINESS  2015-12-10 16:56:52   LOWER POTTSGROVE   \n",
       "\n",
       "                         addr  e  \n",
       "0      REINDEER CT & DEAD END  1  \n",
       "1  BRIAR PATH & WHITEMARSH LN  1  \n",
       "2                    HAWS AVE  1  \n",
       "3          AIRY ST & SWEDE ST  1  \n",
       "4    CHERRYWOOD CT & DEAD END  1  "
      ]
     },
     "execution_count": 6,
     "metadata": {},
     "output_type": "execute_result"
    }
   ],
   "source": [
    "df.head()"
   ]
  },
  {
   "cell_type": "markdown",
   "id": "8e83d1d7",
   "metadata": {},
   "source": [
    "### Compute -- What are the top 10 Zipcodes for 911 &&   Question 1: Are Zipcodes 19446 and 19090 present ?"
   ]
  },
  {
   "cell_type": "code",
   "execution_count": 7,
   "id": "0fd3ad87",
   "metadata": {},
   "outputs": [],
   "source": [
    "a=df[\"zip\"].value_counts().head(10).index.tolist()"
   ]
  },
  {
   "cell_type": "code",
   "execution_count": 8,
   "id": "ad12f183",
   "metadata": {},
   "outputs": [
    {
     "name": "stdout",
     "output_type": "stream",
     "text": [
      "YES\n"
     ]
    }
   ],
   "source": [
    "if (19446  in a and 19090  in a):\n",
    "    print(\"YES\")\n",
    "elif(19446 in a and 19090 not  in a):\n",
    "    print(\"19446 is only present \")\n",
    "elif(19446 not in a and 19090  in a):\n",
    "    print('19090 is only present')\n",
    "else:\n",
    "    print(\"Both values are not present\")"
   ]
  },
  {
   "cell_type": "markdown",
   "id": "d2697535",
   "metadata": {},
   "source": [
    "### Compute -- What are the top 4 townships (twp) for 911 calls & Question 2: Which of the following township are not present? -- LOWER POTTSGROVE, NORRISTOWN,HORSHAM, ABINGTON\n"
   ]
  },
  {
   "cell_type": "code",
   "execution_count": 9,
   "id": "e463c825",
   "metadata": {},
   "outputs": [],
   "source": [
    "l=df[\"twp\"].value_counts().head(4).index.tolist()"
   ]
  },
  {
   "cell_type": "code",
   "execution_count": 10,
   "id": "a7001d7f",
   "metadata": {},
   "outputs": [
    {
     "name": "stdout",
     "output_type": "stream",
     "text": [
      "['LOWER MERION', 'ABINGTON', 'NORRISTOWN', 'UPPER MERION']\n"
     ]
    }
   ],
   "source": [
    "print(l)"
   ]
  },
  {
   "cell_type": "code",
   "execution_count": 11,
   "id": "62b4dc92",
   "metadata": {},
   "outputs": [],
   "source": [
    "check=['LOWER POTTSGROVE', 'NORRISTOWN','HORSHAM', 'ABINGTON']"
   ]
  },
  {
   "cell_type": "code",
   "execution_count": 12,
   "id": "95f3363c",
   "metadata": {},
   "outputs": [
    {
     "name": "stdout",
     "output_type": "stream",
     "text": [
      "LOWER POTTSGROVE\n",
      "HORSHAM\n"
     ]
    }
   ],
   "source": [
    "for i in check:\n",
    "    if(i not in l):\n",
    "        print(i)"
   ]
  },
  {
   "cell_type": "markdown",
   "id": "a894d800",
   "metadata": {},
   "source": [
    "### Compute -- Create new features & Question 3: What is the most common Reason for a 911 call based on Reason Column? Which comes second\n"
   ]
  },
  {
   "cell_type": "code",
   "execution_count": 13,
   "id": "272fb9a7",
   "metadata": {},
   "outputs": [],
   "source": [
    "df[\"Reason\"] = df[\"title\"].apply(lambda reason: reason.split(':')[0])"
   ]
  },
  {
   "cell_type": "code",
   "execution_count": 14,
   "id": "55a2c5eb",
   "metadata": {},
   "outputs": [
    {
     "data": {
      "text/plain": [
       "EMS        133234\n",
       "Traffic     93400\n",
       "Name: Reason, dtype: int64"
      ]
     },
     "execution_count": 14,
     "metadata": {},
     "output_type": "execute_result"
    }
   ],
   "source": [
    "df[\"Reason\"].value_counts().head(2)"
   ]
  },
  {
   "cell_type": "markdown",
   "id": "830d493c",
   "metadata": {},
   "source": [
    "### Compute -- Plot barchart using matplot for 911 calls by Reason & Question 4: How can you plot the bars horizontally ?\n"
   ]
  },
  {
   "cell_type": "code",
   "execution_count": 15,
   "id": "54c3a764",
   "metadata": {},
   "outputs": [
    {
     "data": {
      "text/plain": [
       "EMS        133234\n",
       "Traffic     93400\n",
       "Fire        39909\n",
       "Name: Reason, dtype: int64"
      ]
     },
     "execution_count": 15,
     "metadata": {},
     "output_type": "execute_result"
    }
   ],
   "source": [
    "df[\"Reason\"].value_counts()"
   ]
  },
  {
   "cell_type": "code",
   "execution_count": 16,
   "id": "cf395c81",
   "metadata": {},
   "outputs": [
    {
     "name": "stdout",
     "output_type": "stream",
     "text": [
      "[133234, 93400, 39909]\n",
      "['EMS', 'Traffic', 'Fire']\n"
     ]
    },
    {
     "data": {
      "image/png": "[encoded data removed]",
      "text/plain": [
       "<Figure size 432x288 with 1 Axes>"
      ]
     },
     "metadata": {
      "needs_background": "light"
     },
     "output_type": "display_data"
    }
   ],
   "source": [
    "x=df[\"Reason\"].value_counts().tolist()\n",
    "y=df[\"Reason\"].value_counts().index.tolist()\n",
    "\n",
    "plt.bar(y, x)\n",
    "print(x)\n",
    "print(y)\n",
    "\n",
    "plt.title(\"Vertical bar graph\")\n",
    "plt.show()"
   ]
  },
  {
   "cell_type": "code",
   "execution_count": 17,
   "id": "405029c0",
   "metadata": {},
   "outputs": [
    {
     "data": {
      "image/png": "[encoded data removed]",
      "text/plain": [
       "<Figure size 432x288 with 1 Axes>"
      ]
     },
     "metadata": {
      "needs_background": "light"
     },
     "output_type": "display_data"
    }
   ],
   "source": [
    "plt.barh(y, x)\n",
    "\n",
    "plt.title(\"Horizontal bar graph\")\n",
    "plt.show()\n"
   ]
  },
  {
   "cell_type": "markdown",
   "id": "00b6495c",
   "metadata": {},
   "source": [
    "### Do data manipulation & Question 5: Which day got maximum calls for EMS and how many?"
   ]
  },
  {
   "cell_type": "code",
   "execution_count": 22,
   "id": "fcb3a401",
   "metadata": {},
   "outputs": [
    {
     "name": "stderr",
     "output_type": "stream",
     "text": [
      "<ipython-input-22-1062534a5711>:4: FutureWarning: Columnar iteration over characters will be deprecated in future releases.\n",
      "  data1['title1'],data1['title2']=df['title'].str.split(\":\",1).str\n",
      "<ipython-input-22-1062534a5711>:5: FutureWarning: Columnar iteration over characters will be deprecated in future releases.\n",
      "  data1['date'],data1['time']=data1['timeStamp'].str.split(\" \",1).str\n",
      "<ipython-input-22-1062534a5711>:6: FutureWarning: Columnar iteration over characters will be deprecated in future releases.\n",
      "  data1['year'],data1['Month'],data1['day']=data1['date'].str.split(\"-\",3).str\n"
     ]
    },
    {
     "name": "stdout",
     "output_type": "stream",
     "text": [
      "Friday       19938\n",
      "Tuesday      19575\n",
      "Wednesday    19422\n",
      "Monday       19389\n",
      "Thursday     19297\n",
      "Saturday     18229\n",
      "Sunday       17384\n",
      "Name: Weekday, dtype: int64\n"
     ]
    }
   ],
   "source": [
    "from datetime import datetime\n",
    "\n",
    "data1=df.loc[:,['title','timeStamp']]\n",
    "data1['title1'],data1['title2']=df['title'].str.split(\":\",1).str\n",
    "data1['date'],data1['time']=data1['timeStamp'].str.split(\" \",1).str\n",
    "data1['year'],data1['Month'],data1['day']=data1['date'].str.split(\"-\",3).str\n",
    "data1['date']=pd.to_datetime(data1['date'])\n",
    "data1['Weekday']=data1['date'].dt.day_name()\n",
    "data3=data1['Weekday'][data1['title1']=='EMS'].value_counts()\n",
    "print(data3)"
   ]
  },
  {
   "cell_type": "markdown",
   "id": "46f9032a",
   "metadata": {},
   "source": [
    "### Compute -- Create a countplot of the Day of Week column with the hue based of the Reason column & Question 6: On which day traffic calls were lowest ?"
   ]
  },
  {
   "cell_type": "code",
   "execution_count": 24,
   "id": "7c7efd92",
   "metadata": {},
   "outputs": [
    {
     "name": "stderr",
     "output_type": "stream",
     "text": [
      "<ipython-input-24-cd81d60cb800>:3: FutureWarning: Columnar iteration over characters will be deprecated in future releases.\n",
      "  data1['title1'],data1['title2']=df['title'].str.split(\":\",1).str\n",
      "<ipython-input-24-cd81d60cb800>:4: FutureWarning: Columnar iteration over characters will be deprecated in future releases.\n",
      "  data1['date'],data1['time']=data1['timeStamp'].str.split(\" \",1).str\n",
      "<ipython-input-24-cd81d60cb800>:5: FutureWarning: Columnar iteration over characters will be deprecated in future releases.\n",
      "  data1['year'],data1['Month'],data1['day']=data1['date'].str.split(\"-\",3).str\n"
     ]
    }
   ],
   "source": [
    "from datetime import datetime\n",
    "data1=df.loc[:,['title','timeStamp']]\n",
    "data1['title1'],data1['title2']=df['title'].str.split(\":\",1).str\n",
    "data1['date'],data1['time']=data1['timeStamp'].str.split(\" \",1).str\n",
    "data1['year'],data1['Month'],data1['day']=data1['date'].str.split(\"-\",3).str\n",
    "data1['date']=pd.to_datetime(data1['date'])\n",
    "data1['Weekday']=data1['date'].dt.day_name()\n",
    "data3=data1['Weekday'][data1['title1']=='Traffic'].value_counts()"
   ]
  },
  {
   "cell_type": "code",
   "execution_count": 25,
   "id": "20fd6c22",
   "metadata": {},
   "outputs": [
    {
     "data": {
      "text/plain": [
       "Friday       14945\n",
       "Tuesday      14867\n",
       "Wednesday    14807\n",
       "Thursday     14613\n",
       "Monday       13797\n",
       "Saturday     11524\n",
       "Sunday        8847\n",
       "Name: Weekday, dtype: int64"
      ]
     },
     "execution_count": 25,
     "metadata": {},
     "output_type": "execute_result"
    }
   ],
   "source": [
    "data3"
   ]
  },
  {
   "cell_type": "code",
   "execution_count": 28,
   "id": "349c1892",
   "metadata": {},
   "outputs": [],
   "source": [
    "df[\"timeStamp\"] = pd.to_datetime(df[\"timeStamp\"])\n",
    "time = df['timeStamp'].iloc[0]"
   ]
  },
  {
   "cell_type": "code",
   "execution_count": 29,
   "id": "f9616490",
   "metadata": {},
   "outputs": [],
   "source": [
    "df['Day of Week'] = df['timeStamp'].apply(lambda time:time.dayofweek)"
   ]
  },
  {
   "cell_type": "code",
   "execution_count": 30,
   "id": "23482151",
   "metadata": {},
   "outputs": [],
   "source": [
    "\n",
    "dmap = {0:'Mon',1:'Tue',2:'Wed',3:'Thu',4:'Fri',5:'Sat',6:'Sun'}\n",
    "df[\"Day of Week\"] = df[\"Day of Week\"].map(dmap)"
   ]
  },
  {
   "cell_type": "code",
   "execution_count": 31,
   "id": "08323802",
   "metadata": {},
   "outputs": [
    {
     "data": {
      "text/plain": [
       "<matplotlib.legend.Legend at 0x1f646949a60>"
      ]
     },
     "execution_count": 31,
     "metadata": {},
     "output_type": "execute_result"
    },
    {
     "data": {
      "image/png": "[encoded data removed]",
      "text/plain": [
       "<Figure size 432x288 with 1 Axes>"
      ]
     },
     "metadata": {
      "needs_background": "light"
     },
     "output_type": "display_data"
    }
   ],
   "source": [
    "sns.countplot(x='Day of Week',data = df , hue = 'Reason')\n",
    "plt.legend(bbox_to_anchor=(1.05,1),loc=2,borderaxespad=0.)"
   ]
  },
  {
   "cell_type": "markdown",
   "id": "4d8c3d36",
   "metadata": {},
   "source": [
    "### Compute -- Create a countplot month wise -- Question 7: Which month saw highest calls for fire?"
   ]
  },
  {
   "cell_type": "code",
   "execution_count": 33,
   "id": "20b11fa2",
   "metadata": {},
   "outputs": [
    {
     "name": "stderr",
     "output_type": "stream",
     "text": [
      "<ipython-input-33-f34d6d1cd089>:6: FutureWarning: Columnar iteration over characters will be deprecated in future releases.\n",
      "  data1['title1'],data1['title2']=data['title'].str.split(\":\",1).str\n",
      "<ipython-input-33-f34d6d1cd089>:7: FutureWarning: Columnar iteration over characters will be deprecated in future releases.\n",
      "  data1['date'],data1['time']=data1['timeStamp'].str.split(\" \",1).str\n",
      "<ipython-input-33-f34d6d1cd089>:8: FutureWarning: Columnar iteration over characters will be deprecated in future releases.\n",
      "  data1['year'],data1['Month'],data1['day']=data1['date'].str.split(\"-\",3).str\n"
     ]
    },
    {
     "data": {
      "image/png": "[encoded data removed]",
      "text/plain": [
       "<Figure size 432x288 with 1 Axes>"
      ]
     },
     "metadata": {
      "needs_background": "light"
     },
     "output_type": "display_data"
    },
    {
     "name": "stdout",
     "output_type": "stream",
     "text": [
      "    Month\n",
      "06   3773\n",
      "08   3769\n",
      "10   3668\n",
      "07   3652\n",
      "01   3562\n",
      "09   3489\n",
      "04   3331\n",
      "02   3330\n",
      "05   3243\n",
      "03   3223\n",
      "12   2941\n",
      "11   1928\n"
     ]
    }
   ],
   "source": [
    "import pandas,numpy,matplotlib.pyplot as plt\n",
    "from datetime import datetime\n",
    "data=pandas.read_csv('911.csv')\n",
    "\n",
    "data1=data.loc[:,['title','timeStamp']]\n",
    "data1['title1'],data1['title2']=data['title'].str.split(\":\",1).str\n",
    "data1['date'],data1['time']=data1['timeStamp'].str.split(\" \",1).str\n",
    "data1['year'],data1['Month'],data1['day']=data1['date'].str.split(\"-\",3).str\n",
    "data1['date']=pandas.to_datetime(data1['date'])\n",
    "data1['Weekday']=data1['date'].dt.day_name()\n",
    "data3=data1['Month'][data1['title1']=='Fire'].value_counts()\n",
    "data4=pandas.DataFrame(data1['Month'][data1['title1']=='Fire'].value_counts())\n",
    "plt.plot(data4)\n",
    "plt.show()\n",
    "print(data4)"
   ]
  },
  {
   "cell_type": "markdown",
   "id": "1d0c43d2",
   "metadata": {},
   "source": [
    "### Compute -- Create Web Map for Traffic Calls & Question 8: Why some areas seem to have lower or almost zero traffic calls?"
   ]
  },
  {
   "cell_type": "code",
   "execution_count": 1,
   "id": "8c73a02b",
   "metadata": {},
   "outputs": [],
   "source": [
    "import folium"
   ]
  },
  {
   "cell_type": "code",
   "execution_count": 2,
   "id": "6ebb01b1",
   "metadata": {},
   "outputs": [],
   "source": [
    "from datetime import datetime"
   ]
  },
  {
   "cell_type": "code",
   "execution_count": 11,
   "id": "0b34fe36",
   "metadata": {},
   "outputs": [],
   "source": [
    "lat=list(df['lat'])\n",
    "long=list(df['lng'])"
   ]
  },
  {
   "cell_type": "code",
   "execution_count": 12,
   "id": "1b8f93d6",
   "metadata": {},
   "outputs": [],
   "source": [
    "# lat,long"
   ]
  },
  {
   "cell_type": "code",
   "execution_count": 13,
   "id": "69238230",
   "metadata": {},
   "outputs": [],
   "source": [
    "map=folium.Map(location=[40.2978759,-75.5812935],zoom_start=3)"
   ]
  },
  {
   "cell_type": "code",
   "execution_count": 14,
   "id": "894563b6",
   "metadata": {},
   "outputs": [],
   "source": [
    "# map"
   ]
  },
  {
   "cell_type": "code",
   "execution_count": 15,
   "id": "53fbdba0",
   "metadata": {},
   "outputs": [],
   "source": [
    "fg=folium.FeatureGroup(name=\"module8\")\n",
    "for lat,long in zip(lat,long):\n",
    "    fg.add_child(folium.Marker(location=[lat,long], popup=\"hi\",icon=folium.Icon(color=\"green\")))"
   ]
  },
  {
   "cell_type": "code",
   "execution_count": null,
   "id": "da86504c",
   "metadata": {},
   "outputs": [],
   "source": [
    "map.add_child(fg)\n",
    "# map.save('module8.html')"
   ]
  },
  {
   "cell_type": "code",
   "execution_count": null,
   "id": "7ed3dd26",
   "metadata": {},
   "outputs": [],
   "source": []
  }
 ],
 "metadata": {
  "kernelspec": {
   "display_name": "Python 3",
   "language": "python",
   "name": "python3"
  },
  "language_info": {
   "codemirror_mode": {
    "name": "ipython",
    "version": 3
   },
   "file_extension": ".py",
   "mimetype": "text/x-python",
   "name": "python",
   "nbconvert_exporter": "python",
   "pygments_lexer": "ipython3",
   "version": "3.8.8"
  }
 },
 "nbformat": 4,
 "nbformat_minor": 5
}
